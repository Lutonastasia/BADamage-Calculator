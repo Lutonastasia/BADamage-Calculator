{
 "cells": [
  {
   "cell_type": "code",
   "execution_count": 1,
   "id": "upset-running",
   "metadata": {},
   "outputs": [],
   "source": [
    "import pandas as pd\n",
    "import json\n",
    "from urllib.request import urlopen"
   ]
  },
  {
   "cell_type": "code",
   "execution_count": 2,
   "id": "grand-canal",
   "metadata": {},
   "outputs": [],
   "source": [
    "def getCharNames() -> dict:\n",
    "    # Ensure arg types\n",
    "    \n",
    "    url = 'https://raw.githubusercontent.com/aizawey479/ba-data/jp/Excel/CharacterAcademyTagsExcelTable.json'\n",
    "    response = urlopen(url)\n",
    "    data = json.loads(response.read())['DataList']\n",
    "\n",
    "    result = {}\n",
    "    for node in data:\n",
    "        name = next(tag for tag in node[\"FavorItemUniqueTags\"] if tag.startswith(\"F_\"))\n",
    "        name = name[2:].lower()\n",
    "\n",
    "        # Correct the name\n",
    "        name = name.replace(\"zunko\", \"junko\")\n",
    "        name = name.replace(\"hihumi\", \"hifumi\")\n",
    "\n",
    "        components = name.split(\"_\")\n",
    "        result[node[\"Id\"]] = components[0].capitalize()\n",
    "        if len(components) > 1:\n",
    "            if not (len(components) == 2 and components[1] == \"default\"):\n",
    "                result[node[\"Id\"]] += \" ({})\".format(\" \".join(components[1:]))\n",
    "\n",
    "    return result"
   ]
  },
  {
   "cell_type": "code",
   "execution_count": 3,
   "id": "promising-companion",
   "metadata": {},
   "outputs": [],
   "source": [
    "def getBondStats():\n",
    "    url = \"https://raw.githubusercontent.com/aizawey479/ba-data/jp/Excel/FavorLevelRewardExcelTable.json\"\n",
    "    response = urlopen(url)\n",
    "    df = pd.read_json(response)\n",
    "    df = pd.json_normalize(df['DataList'])\n",
    "    \n",
    "    return df"
   ]
  },
  {
   "cell_type": "code",
   "execution_count": 4,
   "id": "underlying-palestine",
   "metadata": {},
   "outputs": [],
   "source": [
    "def listToString(s): \n",
    "    \n",
    "    # initialize an empty string\n",
    "    str1 = \" \" \n",
    "\n",
    "    result = (str1.join(map(str,s)))\n",
    "    return result"
   ]
  },
  {
   "cell_type": "code",
   "execution_count": 5,
   "id": "interracial-match",
   "metadata": {},
   "outputs": [],
   "source": [
    "def getBondBaseTable():\n",
    "    charnames = getCharNames()\n",
    "    bond_df = getBondStats()\n",
    "\n",
    "    bond_df['StatType'] = bond_df['StatType'].apply(lambda x: listToString(x))\n",
    "    bond_df = bond_df.merge(bond_df['StatType'].str.split(' ', expand=True), how='inner', left_index=True, right_index=True)\n",
    "\n",
    "    bond_df['StatValue'] = bond_df['StatValue'].apply(lambda x: listToString(x))\n",
    "    bond_df = bond_df.merge(bond_df['StatValue'].str.split(' ', expand=True), how='inner', left_index=True, right_index=True)\n",
    "    bond_df['Charactername'] = bond_df['CharacterId'].map(charnames)\n",
    "\n",
    "    column_dict = {\n",
    "        'Charactername':'CharacterName',\n",
    "        'CharacterId':'CharacterId',\n",
    "        'FavorLevel':'Favorlevel',\n",
    "        '0_x':'Stat1',\n",
    "        '0_y':'Value1',\n",
    "        '1_x':'Stat2',\n",
    "        '1_y':'Value2'\n",
    "    }\n",
    "\n",
    "    bond_df = bond_df.rename(columns=column_dict)\n",
    "    bond_df = bond_df[list(column_dict.values())]\n",
    "    \n",
    "    bond_df['Value2'] = bond_df['Value2'].apply(lambda x: 0 if x== None else x)\n",
    "    bond_df['Value1'] = bond_df['Value1'].astype('int')\n",
    "    bond_df['Value2'] = bond_df['Value2'].astype('int')\n",
    "    \n",
    "    StatHead = {\n",
    "        'MaxHP_Base':'HP',\n",
    "        'AttackPower_Base':'Attack',\n",
    "        'DefensePower_Base':'Defence',\n",
    "        'HealPower_Base':'HealPower'}\n",
    "    \n",
    "    for column in ['Stat1','Stat2']:\n",
    "        for stat in StatHead:\n",
    "            bond_df[column] = bond_df[column].apply(lambda x: StatHead[stat] if x==stat else x)\n",
    "    \n",
    "    return bond_df"
   ]
  },
  {
   "cell_type": "code",
   "execution_count": 6,
   "id": "compatible-breast",
   "metadata": {},
   "outputs": [],
   "source": [
    "def main():\n",
    "    bond_df = getBondBaseTable()\n",
    "    chars = list(bond_df.CharacterName.unique())\n",
    "    bondstat_dict = {}\n",
    "\n",
    "    for character in chars:\n",
    "        if character not in bondstat_dict:\n",
    "            bondstat_dict[character] = {}\n",
    "\n",
    "        for stat in ['Stat1','Stat2']:\n",
    "            bondstat_dict[character][stat] = list(bond_df[bond_df['CharacterName']==character][stat].unique())[-1]\n",
    "            \n",
    "    bondsum_dict = {}\n",
    "\n",
    "    for favor in range(2,51):\n",
    "        bondsum = bond_df[bond_df['Favorlevel']<=favor].groupby(['CharacterName']).sum()\n",
    "        for character, row in bondsum.iterrows():\n",
    "            if character not in bondsum_dict:\n",
    "                bondsum_dict[character] = {}\n",
    "            if favor not in bondsum_dict[character]:\n",
    "                bondsum_dict[character][favor] = {}\n",
    "\n",
    "            bondsum_dict[character][favor]['Stat1'] = bondstat_dict[character]['Stat1']\n",
    "            bondsum_dict[character][favor]['Value1'] = row['Value1']\n",
    "\n",
    "            bondsum_dict[character][favor]['Stat2'] = bondstat_dict[character]['Stat2']\n",
    "            bondsum_dict[character][favor]['Value2'] = row['Value2']\n",
    "            \n",
    "    bond_final_df = pd.DataFrame.from_dict({(i,j): bondsum_dict[i][j] \n",
    "                               for i in bondsum_dict.keys() \n",
    "                               for j in bondsum_dict[i].keys()},\n",
    "                           orient='index').reset_index()\n",
    "\n",
    "    bond_final_df = bond_final_df.rename(columns={'level_0':'CharacterName','level_1':'Bond'})\n",
    "\n",
    "    bond_final_df.to_csv('BA_Bond_Stats.csv',index=False)"
   ]
  },
  {
   "cell_type": "code",
   "execution_count": 7,
   "id": "addressed-destiny",
   "metadata": {},
   "outputs": [],
   "source": [
    "main()"
   ]
  }
 ],
 "metadata": {
  "kernelspec": {
   "display_name": "Python 3",
   "language": "python",
   "name": "python3"
  },
  "language_info": {
   "codemirror_mode": {
    "name": "ipython",
    "version": 3
   },
   "file_extension": ".py",
   "mimetype": "text/x-python",
   "name": "python",
   "nbconvert_exporter": "python",
   "pygments_lexer": "ipython3",
   "version": "3.9.2"
  }
 },
 "nbformat": 4,
 "nbformat_minor": 5
}
